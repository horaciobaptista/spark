{
  "nbformat": 4,
  "nbformat_minor": 0,
  "metadata": {
    "colab": {
      "provenance": [],
      "authorship_tag": "ABX9TyOYPjgrFb59CtgfaHBgp4D9",
      "include_colab_link": true
    },
    "kernelspec": {
      "name": "python3",
      "display_name": "Python 3"
    },
    "language_info": {
      "name": "python"
    }
  },
  "cells": [
    {
      "cell_type": "markdown",
      "metadata": {
        "id": "view-in-github",
        "colab_type": "text"
      },
      "source": [
        "<a href=\"https://colab.research.google.com/github/horaciobaptista/spark/blob/main/PySpark_Tutorial.ipynb\" target=\"_parent\"><img src=\"https://colab.research.google.com/assets/colab-badge.svg\" alt=\"Open In Colab\"/></a>"
      ]
    },
    {
      "cell_type": "markdown",
      "source": [
        "# PySpark\n",
        "## https://www.youtube.com/watch?v=Ojb0XpJpOpc"
      ],
      "metadata": {
        "id": "YIWn7y53d97M"
      }
    },
    {
      "cell_type": "code",
      "source": [
        "# Instalar o PySpark\n",
        "!pip install pyspark"
      ],
      "metadata": {
        "id": "p0Ij5C9SeGQS"
      },
      "execution_count": null,
      "outputs": []
    },
    {
      "cell_type": "code",
      "source": [
        "# Iniciar o SparkContext\n",
        "from pyspark import SparkContext\n",
        "sc = SparkContext.getOrCreate()"
      ],
      "metadata": {
        "id": "uZewggs7enfX"
      },
      "execution_count": 12,
      "outputs": []
    },
    {
      "cell_type": "markdown",
      "source": [
        "## Transformações"
      ],
      "metadata": {
        "id": "AwHB48WBgb5n"
      }
    },
    {
      "cell_type": "code",
      "source": [
        "# Map transformation\n",
        "ex_rdd = sc.parallelize([16,24,32,40])\n",
        "print(ex_rdd.map(lambda x: x+ 15).collect())"
      ],
      "metadata": {
        "id": "8IuBcMqYfQNd"
      },
      "execution_count": null,
      "outputs": []
    },
    {
      "cell_type": "code",
      "source": [
        "# Filter transformation\n",
        "f_rdd = sc.parallelize([21,32,43,54,65,76])\n",
        "print(f_rdd.filter(lambda x: x%2 ==0).collect())"
      ],
      "metadata": {
        "id": "gfvur_PngL72"
      },
      "execution_count": null,
      "outputs": []
    },
    {
      "cell_type": "code",
      "source": [
        "# Union transformation\n",
        "input = sc.parallelize([24,42,53,68,71,86,99])\n",
        "u_rdd1 = input.filter(lambda x: x % 3 == 0)\n",
        "u_rdd2 = input.filter(lambda x: x % 9 == 0)\n",
        "print(u_rdd1.union(u_rdd2).collect())"
      ],
      "metadata": {
        "id": "vG6biOYIg_SD"
      },
      "execution_count": null,
      "outputs": []
    },
    {
      "cell_type": "code",
      "source": [
        "# Flat map transformation\n",
        "fmap_rdd = sc.parallelize([\"Hello World!\", \"Welcome to PySpark RDD\"])\n",
        "(fmap_rdd.flatMap(lambda x: x.split(\" \")).collect())"
      ],
      "metadata": {
        "id": "nFWeZdDRiUv4"
      },
      "execution_count": null,
      "outputs": []
    },
    {
      "cell_type": "markdown",
      "source": [
        "## Ações"
      ],
      "metadata": {
        "id": "V-QINVVJlNoW"
      }
    },
    {
      "cell_type": "code",
      "source": [
        "# Collect action\n",
        "clct_rdd = sc.parallelize([15,24,33,42,51])\n",
        "print(clct_rdd.collect())"
      ],
      "metadata": {
        "colab": {
          "base_uri": "https://localhost:8080/"
        },
        "id": "e_IIVBqMjfw2",
        "outputId": "3e141c4d-ad95-4a90-c9cf-077f55908aef"
      },
      "execution_count": 36,
      "outputs": [
        {
          "output_type": "stream",
          "name": "stdout",
          "text": [
            "[15, 24, 33, 42, 51]\n"
          ]
        }
      ]
    },
    {
      "cell_type": "code",
      "source": [
        "# Count action\n",
        "cnt_rdd = sc.parallelize([11,12,13,14,15,16,17,18,19])\n",
        "print(cnt_rdd.count())"
      ],
      "metadata": {
        "colab": {
          "base_uri": "https://localhost:8080/"
        },
        "id": "Xq8X06TSj7Ia",
        "outputId": "3aa01fdb-61fe-4e27-fd77-26423bd1d2c7"
      },
      "execution_count": 35,
      "outputs": [
        {
          "output_type": "stream",
          "name": "stdout",
          "text": [
            "9\n"
          ]
        }
      ]
    },
    {
      "cell_type": "code",
      "source": [
        "# Take action\n",
        "tk_rdd = sc.parallelize([23,67,71,49,88])\n",
        "print(tk_rdd.take(3))"
      ],
      "metadata": {
        "colab": {
          "base_uri": "https://localhost:8080/"
        },
        "id": "3EsoE1NOkuSL",
        "outputId": "a2fa935f-8f42-4995-b8ed-83800441d539"
      },
      "execution_count": 33,
      "outputs": [
        {
          "output_type": "stream",
          "name": "stdout",
          "text": [
            "[23, 67, 71]\n"
          ]
        }
      ]
    },
    {
      "cell_type": "code",
      "source": [
        "# Reduce action\n",
        "red_rdd = sc.parallelize([17,13,24,36])\n",
        "print(red_rdd.reduce(lambda x, y : x + y))"
      ],
      "metadata": {
        "colab": {
          "base_uri": "https://localhost:8080/"
        },
        "id": "VFdH9lEhlYzQ",
        "outputId": "71709d42-d956-4edb-e940-1646f97ec364"
      },
      "execution_count": 34,
      "outputs": [
        {
          "output_type": "stream",
          "name": "stdout",
          "text": [
            "90\n"
          ]
        }
      ]
    },
    {
      "cell_type": "code",
      "source": [
        "# Save action\n",
        "sv_rdd = sc.parallelize([2,4,6,8])\n",
        "sv_rdd.saveAsTextFile('textfile.txt')"
      ],
      "metadata": {
        "id": "gQjX86TsmMcl"
      },
      "execution_count": 37,
      "outputs": []
    }
  ]
}