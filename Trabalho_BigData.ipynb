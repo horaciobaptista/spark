{
  "nbformat": 4,
  "nbformat_minor": 0,
  "metadata": {
    "colab": {
      "provenance": [],
      "authorship_tag": "ABX9TyMkVLGesJSpi9m9hjE4shCI",
      "include_colab_link": true
    },
    "kernelspec": {
      "name": "python3",
      "display_name": "Python 3"
    },
    "language_info": {
      "name": "python"
    }
  },
  "cells": [
    {
      "cell_type": "markdown",
      "metadata": {
        "id": "view-in-github",
        "colab_type": "text"
      },
      "source": [
        "<a href=\"https://colab.research.google.com/github/horaciobaptista/spark/blob/main/Trabalho_BigData.ipynb\" target=\"_parent\"><img src=\"https://colab.research.google.com/assets/colab-badge.svg\" alt=\"Open In Colab\"/></a>"
      ]
    },
    {
      "cell_type": "markdown",
      "source": [
        "# Texto"
      ],
      "metadata": {
        "id": "YMRA-A-8rQAV"
      }
    },
    {
      "cell_type": "code",
      "source": [
        "# Instalar o PySpark:\n",
        "!pip install pyspark"
      ],
      "metadata": {
        "colab": {
          "base_uri": "https://localhost:8080/"
        },
        "id": "_mBmWaGPrX2p",
        "outputId": "5da9120a-0f46-49a2-a262-861abc23f7b9"
      },
      "execution_count": 2,
      "outputs": [
        {
          "output_type": "stream",
          "name": "stdout",
          "text": [
            "Looking in indexes: https://pypi.org/simple, https://us-python.pkg.dev/colab-wheels/public/simple/\n",
            "Collecting pyspark\n",
            "  Downloading pyspark-3.4.0.tar.gz (310.8 MB)\n",
            "\u001b[2K     \u001b[90m━━━━━━━━━━━━━━━━━━━━━━━━━━━━━━━━━━━━━━━\u001b[0m \u001b[32m310.8/310.8 MB\u001b[0m \u001b[31m4.7 MB/s\u001b[0m eta \u001b[36m0:00:00\u001b[0m\n",
            "\u001b[?25h  Preparing metadata (setup.py) ... \u001b[?25l\u001b[?25hdone\n",
            "Requirement already satisfied: py4j==0.10.9.7 in /usr/local/lib/python3.10/dist-packages (from pyspark) (0.10.9.7)\n",
            "Building wheels for collected packages: pyspark\n",
            "  Building wheel for pyspark (setup.py) ... \u001b[?25l\u001b[?25hdone\n",
            "  Created wheel for pyspark: filename=pyspark-3.4.0-py2.py3-none-any.whl size=311317130 sha256=f8397941e9742f9dc897725245b530bffce15ae877316f5b80d0d6a046a946a4\n",
            "  Stored in directory: /root/.cache/pip/wheels/7b/1b/4b/3363a1d04368e7ff0d408e57ff57966fcdf00583774e761327\n",
            "Successfully built pyspark\n",
            "Installing collected packages: pyspark\n",
            "Successfully installed pyspark-3.4.0\n"
          ]
        }
      ]
    },
    {
      "cell_type": "code",
      "execution_count": 1,
      "metadata": {
        "id": "GyltdcZJrPJM"
      },
      "outputs": [],
      "source": [
        "# Importar livrarias e criar o SparkContext:\n",
        "from pyspark import SparkContext, SparkConf\n",
        "conf = SparkConf().setAppName(\"Data Exploration\")\n",
        "sc = SparkContext(conf=conf)"
      ]
    },
    {
      "cell_type": "code",
      "source": [
        "# Carregar o dataset como um RDD:\n",
        "dataset_rdd = sc.textFile(\"kz_dataset.csv\")"
      ],
      "metadata": {
        "id": "T_OlhQkbsRuv"
      },
      "execution_count": 8,
      "outputs": []
    },
    {
      "cell_type": "code",
      "source": [
        "# Analisar os dados CSV e dividir em colunas individuais:\n",
        "header = dataset_rdd.first()  # Extract the header\n",
        "data_rdd = dataset_rdd.filter(lambda line: line != header)  # Remove the header from RDD\n",
        "\n",
        "# Dividir cada linha em colunas\n",
        "columns_rdd = data_rdd.map(lambda line: line.split(\",\"))\n"
      ],
      "metadata": {
        "id": "bqwnW9a8tPU4"
      },
      "execution_count": 10,
      "outputs": []
    }
  ]
}