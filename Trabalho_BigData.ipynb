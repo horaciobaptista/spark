{
  "nbformat": 4,
  "nbformat_minor": 0,
  "metadata": {
    "colab": {
      "provenance": [],
      "authorship_tag": "ABX9TyPlDgCeE7MagRDkg+LaUrph",
      "include_colab_link": true
    },
    "kernelspec": {
      "name": "python3",
      "display_name": "Python 3"
    },
    "language_info": {
      "name": "python"
    }
  },
  "cells": [
    {
      "cell_type": "markdown",
      "metadata": {
        "id": "view-in-github",
        "colab_type": "text"
      },
      "source": [
        "<a href=\"https://colab.research.google.com/github/horaciobaptista/spark/blob/main/Trabalho_BigData.ipynb\" target=\"_parent\"><img src=\"https://colab.research.google.com/assets/colab-badge.svg\" alt=\"Open In Colab\"/></a>"
      ]
    },
    {
      "cell_type": "markdown",
      "source": [
        "# **eCommerce purchase history from electronics store**\n",
        "#### https://www.kaggle.com/datasets/mkechinov/ecommerce-purchase-history-from-electronics-store"
      ],
      "metadata": {
        "id": "YMRA-A-8rQAV"
      }
    },
    {
      "cell_type": "code",
      "source": [
        "# Instalar o PySpark:\n",
        "!pip install pyspark"
      ],
      "metadata": {
        "id": "_mBmWaGPrX2p"
      },
      "execution_count": null,
      "outputs": []
    },
    {
      "cell_type": "code",
      "execution_count": 1,
      "metadata": {
        "id": "GyltdcZJrPJM"
      },
      "outputs": [],
      "source": [
        "# Importar livrarias e criar o SparkContext:\n",
        "from pyspark import SparkContext, SparkConf\n",
        "conf = SparkConf().setAppName(\"Data Exploration\")\n",
        "sc = SparkContext(conf=conf)"
      ]
    },
    {
      "cell_type": "code",
      "source": [
        "# Carregar o dataset como um RDD:\n",
        "dataset_rdd = sc.textFile(\"kz_dataset.csv\")"
      ],
      "metadata": {
        "id": "T_OlhQkbsRuv"
      },
      "execution_count": 8,
      "outputs": []
    },
    {
      "cell_type": "code",
      "source": [
        "# Analisar os dados CSV e dividir em colunas individuais:\n",
        "header = dataset_rdd.first()  # Extract the header\n",
        "data_rdd = dataset_rdd.filter(lambda line: line != header)  # Remove the header from RDD\n",
        "\n",
        "# Dividir cada linha em colunas\n",
        "columns_rdd = data_rdd.map(lambda line: line.split(\",\"))\n"
      ],
      "metadata": {
        "id": "bqwnW9a8tPU4"
      },
      "execution_count": 10,
      "outputs": []
    },
    {
      "cell_type": "markdown",
      "source": [
        "##### Realizar operações de exploração e análise de dados no RDD:"
      ],
      "metadata": {
        "id": "hA2wyT6EuiLw"
      }
    },
    {
      "cell_type": "code",
      "source": [
        "# Contar o número total de linha no dataset:\n",
        "total_rows = columns_rdd.count()\n",
        "print(\"Total linhas:\", total_rows)"
      ],
      "metadata": {
        "id": "3CxwlAwkum3H"
      },
      "execution_count": null,
      "outputs": []
    },
    {
      "cell_type": "code",
      "source": [
        "# Extrair a coluna product_id:\n",
        "product_id_rdd = columns_rdd.map(lambda row: row[2])"
      ],
      "metadata": {
        "id": "NqNAjFsHvWBE"
      },
      "execution_count": 19,
      "outputs": []
    },
    {
      "cell_type": "code",
      "source": [
        "# "
      ],
      "metadata": {
        "id": "o2UckID-vv0e"
      },
      "execution_count": null,
      "outputs": []
    }
  ]
}